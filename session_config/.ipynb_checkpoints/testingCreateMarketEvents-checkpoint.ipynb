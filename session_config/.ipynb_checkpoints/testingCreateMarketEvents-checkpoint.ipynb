{
 "cells": [
  {
   "cell_type": "code",
   "execution_count": 26,
   "metadata": {},
   "outputs": [
    {
     "name": "stdout",
     "output_type": "stream",
     "text": [
      "The autoreload extension is already loaded. To reload it, use:\n",
      "  %reload_ext autoreload\n"
     ]
    }
   ],
   "source": [
    "import sys\n",
    "import os\n",
    "import numpy as np\n",
    "import pdb\n",
    "from createMarketEvents import *\n",
    "%load_ext autoreload\n",
    "%autoreload 2"
   ]
  },
  {
   "cell_type": "code",
   "execution_count": 27,
   "metadata": {},
   "outputs": [],
   "source": [
    "rootPath = '/users/ealdrich/Dropbox/Academics/Research/UCSC/high_frequency_trading/'\n",
    "investorFile = 'investorTestFile.csv'\n",
    "jumpFile = 'jumpTestFile.csv'\n",
    "periodLengthSeconds = 240\n",
    "lambdaJ = 1/3.0\n",
    "lambdaI = 1/4.0\n",
    "startingPrice = 100\n",
    "sigJump = 0.5\n",
    "muI = sigJump\n",
    "sigI = 2*sigJump\n",
    "lambdaTIF = 5\n",
    "tifRandomFlag = False\n",
    "csvFlag = False"
   ]
  },
  {
   "cell_type": "code",
   "execution_count": 28,
   "metadata": {},
   "outputs": [],
   "source": [
    "createMarketEvents(rootPath,investorFile,jumpFile,periodLengthSeconds,lambdaJ,lambdaI,startingPrice,sigJump,muI,sigI,lambdaTIF,tifRandomFlag,csvFlag)"
   ]
  },
  {
   "cell_type": "code",
   "execution_count": null,
   "metadata": {},
   "outputs": [],
   "source": []
  }
 ],
 "metadata": {
  "kernelspec": {
   "display_name": "Python 2",
   "language": "python",
   "name": "python2"
  },
  "language_info": {
   "codemirror_mode": {
    "name": "ipython",
    "version": 2
   },
   "file_extension": ".py",
   "mimetype": "text/x-python",
   "name": "python",
   "nbconvert_exporter": "python",
   "pygments_lexer": "ipython2",
   "version": "2.7.15"
  }
 },
 "nbformat": 4,
 "nbformat_minor": 2
}
